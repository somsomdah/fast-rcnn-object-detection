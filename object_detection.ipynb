{
  "nbformat": 4,
  "nbformat_minor": 0,
  "metadata": {
    "accelerator": "GPU",
    "colab": {
      "name": "object_detection.ipynb",
      "provenance": [],
      "private_outputs": true,
      "collapsed_sections": [],
      "toc_visible": true,
      "include_colab_link": true
    },
    "kernelspec": {
      "display_name": "Python 3",
      "language": "python",
      "name": "python3"
    },
    "language_info": {
      "codemirror_mode": {
        "name": "ipython",
        "version": 3
      },
      "file_extension": ".py",
      "mimetype": "text/x-python",
      "name": "python",
      "nbconvert_exporter": "python",
      "pygments_lexer": "ipython3",
      "version": "3.6.9"
    }
  },
  "cells": [
    {
      "cell_type": "markdown",
      "metadata": {
        "id": "view-in-github",
        "colab_type": "text"
      },
      "source": [
        "<a href=\"https://colab.research.google.com/github/somsomdah/fast-rcnn-object-detection/blob/master/object_detection.ipynb\" target=\"_parent\"><img src=\"https://colab.research.google.com/assets/colab-badge.svg\" alt=\"Open In Colab\"/></a>"
      ]
    },
    {
      "cell_type": "code",
      "metadata": {
        "cellView": "both",
        "colab_type": "code",
        "id": "6cPY9Ou4sWs_",
        "colab": {}
      },
      "source": [
        "import tensorflow as tf\n",
        "import tensorflow_hub as hub\n",
        "import matplotlib.pyplot as plt\n",
        "import numpy as np\n",
        "import cv2\n",
        "import random\n",
        "import os"
      ],
      "execution_count": null,
      "outputs": []
    },
    {
      "cell_type": "code",
      "metadata": {
        "id": "OB2tp7VEF-y-",
        "colab_type": "code",
        "colab": {}
      },
      "source": [
        "!unzip samples.zip -d samples"
      ],
      "execution_count": null,
      "outputs": []
    },
    {
      "cell_type": "code",
      "metadata": {
        "colab_type": "code",
        "id": "D9IwDpOtpIHW",
        "colab": {}
      },
      "source": [
        "def display_image(image):\n",
        "  fig = plt.figure(figsize=(20, 15))\n",
        "  plt.axis(\"off\")\n",
        "  plt.imshow(image)\n",
        "\n",
        "def draw_boxes(image, boxes, class_names, scores, max_boxes=10, min_score=0.1):\n",
        "  classes=list(set(class_names))\n",
        "  colors=[(random.random(),random.random(),random.random()) for _ in range(len(classes))]\n",
        "  class_color={key:val for key,val in zip(classes,colors)}\n",
        "\n",
        "  for i in range(min(boxes.shape[0], max_boxes)):\n",
        "    if scores[i] >= min_score:\n",
        "      ymin, xmin, ymax, xmax = tuple(boxes[i])\n",
        "      display_str = \"{}: {}%\".format(class_names[i].decode(\"ascii\"),int(100 * scores[i]))\n",
        "      h,w,_=image.shape\n",
        "      xmin,ymin,xmax,ymax=map(int,[w*xmin,h*ymin,w*xmax,h*ymax])\n",
        "      image=cv2.rectangle(image,(xmin,ymin),(xmax,ymax),class_color[class_names[i]],5)\n",
        "      image=cv2.putText(image,display_str,(xmin,ymin-10),cv2.FONT_HERSHEY_SIMPLEX,0.7,class_color[class_names[i]],2)\n",
        "  return image"
      ],
      "execution_count": null,
      "outputs": []
    },
    {
      "cell_type": "code",
      "metadata": {
        "cellView": "both",
        "colab_type": "code",
        "id": "YLWNhjUY1mhg",
        "colab": {}
      },
      "source": [
        "def load_and_resize_image(path):\n",
        "    image=cv2.imread(path)\n",
        "    image=cv2.cvtColor(image,cv2.COLOR_BGR2RGB)\n",
        "    image=cv2.resize(image,(1280,856))\n",
        "    image=image/255.0\n",
        "    return image"
      ],
      "execution_count": null,
      "outputs": []
    },
    {
      "cell_type": "code",
      "metadata": {
        "id": "aa1_Er_ZbNtn",
        "colab_type": "code",
        "colab": {}
      },
      "source": [
        "module_handle = \"https://tfhub.dev/google/faster_rcnn/openimages_v4/inception_resnet_v2/1\"\n",
        "detector = hub.load(module_handle).signatures['default']"
      ],
      "execution_count": null,
      "outputs": []
    },
    {
      "cell_type": "code",
      "metadata": {
        "colab_type": "code",
        "id": "kwGJV96WWBLH",
        "colab": {}
      },
      "source": [
        "def run_detector(detector, image):\n",
        "  converted_img  = tf.image.convert_image_dtype(image, tf.float32)[tf.newaxis, ...]\n",
        "  result = detector(converted_img)\n",
        "  result = {key:value.numpy() for key,value in result.items()}\n",
        "  image_with_boxes = draw_boxes(image, boxes=result[\"detection_boxes\"],class_names=result[\"detection_class_entities\"], scores=result[\"detection_scores\"])\n",
        "  display_image(image_with_boxes)\n",
        "  return image_with_boxes"
      ],
      "execution_count": null,
      "outputs": []
    },
    {
      "cell_type": "code",
      "metadata": {
        "colab_type": "code",
        "id": "vchaUW1XDodD",
        "colab": {}
      },
      "source": [
        "for file in os.listdir('./inputs'):\n",
        "    filename,extention=file.split('.')\n",
        "    result=run_detector(detector, load_and_resize_image('./inputs/'+file))\n",
        "    cv2.imwrite('./outputs/'+filename+'_result.'+extention,result)"
      ],
      "execution_count": null,
      "outputs": []
    },
    {
      "cell_type": "code",
      "metadata": {
        "id": "4Bny1kMGmPNL",
        "colab_type": "code",
        "colab": {}
      },
      "source": [
        ""
      ],
      "execution_count": null,
      "outputs": []
    }
  ]
}